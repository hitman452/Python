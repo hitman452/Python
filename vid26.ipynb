{
 "cells": [
  {
   "cell_type": "code",
   "execution_count": null,
   "id": "3f8765ee",
   "metadata": {},
   "outputs": [
    {
     "name": "stdout",
     "output_type": "stream",
     "text": [
      "1C = 33.8F\n"
     ]
    }
   ],
   "source": [
    "# Temperature Converter\n",
    "\n",
    "def cel_farh(in_temp):\n",
    "    return ((in_temp * 9/5) + 32)\n",
    "\n",
    "def cel_kel(in_temp):\n",
    "    return (in_temp + 273.15)\n",
    "\n",
    "def kel_cel(in_temp):\n",
    "    return (in_temp - 273.15)\n",
    "\n",
    "def farh_cel(in_temp):\n",
    "    return ((in_temp - 32)* 5/9)\n",
    "\n",
    "tc = int(input(\"What unit conversion do you want to perform? (select the sr. no.):\\n1)Celcius to Fahrenheit\\n2)Fahrenheit to Celcius\\n3)Celcius to Kelvin\\n4)Kelvin to Celcius\\n5)Fahrenheit to Kelvin\\n6)Kelvin to Fahrenheit\\n\"))\n",
    "t = int(input('Enter the temperature: '))\n",
    "\n",
    "if(tc==1):\n",
    "    print(f\"{t}C = {cel_farh(t)}F\")\n",
    "elif(tc==2):\n",
    "    print(f\"{t}F = {farh_cel(t)}C\")\n",
    "elif(tc==3):\n",
    "    print(f\"{t}C = {cel_kel(t)}K\")\n",
    "elif(tc==4):\n",
    "    print(f\"{t}K = {kel_cel(t)}C\")\n",
    "elif(tc==5):\n",
    "    print(f\"{t}F = {cel_kel(farh_cel(t))}K\")\n",
    "elif(tc==6):\n",
    "    print(f\"{t}K = {cel_farh(kel_cel(t))}F\")"
   ]
  },
  {
   "cell_type": "code",
   "execution_count": 10,
   "id": "dfe27d45",
   "metadata": {},
   "outputs": [
    {
     "name": "stdout",
     "output_type": "stream",
     "text": [
      "Strong Password\n"
     ]
    }
   ],
   "source": [
    "# Password Strength Checker\n",
    "def strength(p):\n",
    "    n = 0\n",
    "    d = 0\n",
    "    l = 0\n",
    "    u = 0\n",
    "    \n",
    "    if(len(p) < 8):\n",
    "        return False\n",
    "    elif(len(p)>= 12):\n",
    "        n += 1\n",
    "    else:\n",
    "        None\n",
    "    \n",
    "    for char in p:\n",
    "        if(char.isdigit()):\n",
    "            d += 1\n",
    "        \n",
    "    if(d == 0):\n",
    "        return False\n",
    "    elif(d >= 4):\n",
    "        n += 1\n",
    "    else:\n",
    "        None\n",
    "    \n",
    "    for char in p:\n",
    "        if(char.islower()):\n",
    "            l += 1\n",
    "    \n",
    "    if(l == 0):\n",
    "        return False\n",
    "    elif(l >= 4):\n",
    "        n += 1\n",
    "    else:\n",
    "        None\n",
    "    \n",
    "    for char in p:\n",
    "        if(char.isupper()):\n",
    "            u += 1\n",
    "    \n",
    "    if(u == 0):\n",
    "        return False\n",
    "    elif(u >= 4):\n",
    "        n += 1\n",
    "    else:\n",
    "        None\n",
    "    \n",
    "    if(n == 0):\n",
    "        print('Weak Password')\n",
    "    elif(n > 1 and n <= 2):\n",
    "        print('Medium Passord')\n",
    "    else:\n",
    "        print('Strong Password')\n",
    "        \n",
    "password = input('Enter a password: ')\n",
    "strength(password)"
   ]
  },
  {
   "cell_type": "code",
   "execution_count": null,
   "id": "b9fec440",
   "metadata": {},
   "outputs": [],
   "source": [
    "# Calculate the total cost of items in shopping cart"
   ]
  },
  {
   "cell_type": "code",
   "execution_count": null,
   "id": "0cffef8e",
   "metadata": {},
   "outputs": [],
   "source": [
    "# Check if the string is a palindrome"
   ]
  },
  {
   "cell_type": "code",
   "execution_count": null,
   "id": "7c9dab51",
   "metadata": {},
   "outputs": [],
   "source": []
  }
 ],
 "metadata": {
  "kernelspec": {
   "display_name": "venv",
   "language": "python",
   "name": "python3"
  },
  "language_info": {
   "codemirror_mode": {
    "name": "ipython",
    "version": 3
   },
   "file_extension": ".py",
   "mimetype": "text/x-python",
   "name": "python",
   "nbconvert_exporter": "python",
   "pygments_lexer": "ipython3",
   "version": "3.12.0"
  }
 },
 "nbformat": 4,
 "nbformat_minor": 5
}
